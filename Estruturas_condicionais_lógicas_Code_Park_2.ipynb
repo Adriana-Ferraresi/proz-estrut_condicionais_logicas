{
  "nbformat": 4,
  "nbformat_minor": 0,
  "metadata": {
    "colab": {
      "provenance": [],
      "authorship_tag": "ABX9TyOFapJ+Dznv5llJ+k/B/J8o",
      "include_colab_link": true
    },
    "kernelspec": {
      "name": "python3",
      "display_name": "Python 3"
    },
    "language_info": {
      "name": "python"
    }
  },
  "cells": [
    {
      "cell_type": "markdown",
      "metadata": {
        "id": "view-in-github",
        "colab_type": "text"
      },
      "source": [
        "<a href=\"https://colab.research.google.com/github/Crisfer-code/Proz-turma9/blob/main/Estruturas_condicionais_l%C3%B3gicas_Code_Park_2.ipynb\" target=\"_parent\"><img src=\"https://colab.research.google.com/assets/colab-badge.svg\" alt=\"Open In Colab\"/></a>"
      ]
    },
    {
      "cell_type": "code",
      "source": [
        "def categoria_habilitacao(rodas: int, peso: float, pessoas: int) -> str:\n",
        "\n",
        "    \"\"\"Determina a categoria de uma carteira de motorista com base no número de rodas, peso e número de pessoas.\n",
        "\n",
        "    Args:\n",
        "        rodas (int): Número de rodas do veículo.\n",
        "        peso (float): Peso do veículo em kg.\n",
        "        pessoas (int): Número máximo de pessoas que o veículo pode transportar.\n",
        "\n",
        "    Returns:\n",
        "        str: Categoria da carteira de motorista.\n",
        "    \"\"\"\n",
        "    categoria = \"Categoria desconhecida\"\n",
        "\n",
        "    if rodas <= 3:\n",
        "        categoria = \"A\"\n",
        "    elif rodas >= 4:\n",
        "        if pessoas <= 8 and peso <= 3500:\n",
        "            categoria = \"B\"\n",
        "        elif pessoas <= 8 and peso > 3500 and peso <= 6000:\n",
        "            categoria = \"C\"\n",
        "        elif pessoas > 8 and peso <= 3500:\n",
        "            categoria = \"D\"\n",
        "        elif pessoas > 8 and peso > 3500 and peso <= 6000:\n",
        "            categoria = \"E\"\n",
        "        elif pessoas <= 8 and peso > 6000:\n",
        "            categoria = \"E\"\n",
        "        elif pessoas > 8 and peso > 6000:\n",
        "            categoria = \"E\"\n",
        "\n",
        "    return categoria\n",
        "\n",
        "Resultado = categoria_habilitacao(4, 4000, 5)\n",
        "print(Resultado)\n",
        "\n",
        "print(categoria_habilitacao(2, 1000, 1))\n",
        "print(categoria_habilitacao(4, 3000, 4))\n",
        "print(categoria_habilitacao(4, 5000, 4))\n",
        "print(categoria_habilitacao(4, 3000, 9))\n",
        "print(categoria_habilitacao(4, 5000, 9))\n",
        "print(categoria_habilitacao(4, 7000, 9))"
      ],
      "metadata": {
        "colab": {
          "base_uri": "https://localhost:8080/"
        },
        "outputId": "d3c137f5-f29e-49e3-97c1-64a71f7797ca",
        "id": "XWSIUlsf7Oj0"
      },
      "execution_count": null,
      "outputs": [
        {
          "output_type": "stream",
          "name": "stdout",
          "text": [
            "C\n",
            "A\n",
            "B\n",
            "C\n",
            "D\n",
            "E\n",
            "E\n"
          ]
        }
      ]
    }
  ]
}